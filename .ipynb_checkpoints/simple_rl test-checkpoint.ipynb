{
 "cells": [
  {
   "cell_type": "code",
   "execution_count": 1,
   "metadata": {},
   "outputs": [],
   "source": [
    "import numpy as np\n",
    "import tensorflow as tf\n",
    "import matplotlib.pyplot as plt\n",
    "import maze_plot as mplot\n",
    "\n",
    "from maze_task import Maze2D\n",
    "\n",
    "from tqdm.notebook import trange, tqdm\n",
    "import colorama\n",
    "from bayes_opt import BayesianOptimization\n"
   ]
  },
  {
   "cell_type": "code",
   "execution_count": 2,
   "metadata": {},
   "outputs": [
    {
     "data": {
      "image/png": "[encoded data removed]",
      "text/plain": [
       "<Figure size 576x576 with 1 Axes>"
      ]
     },
     "metadata": {
      "needs_background": "light"
     },
     "output_type": "display_data"
    }
   ],
   "source": [
    "size = (4,4)\n",
    "\n",
    "maze = Maze2D(size)\n",
    "maze.agent_pos = 12\n",
    "maze.move_reward(next_pos=7)\n",
    "\n",
    "fig, ax = mplot.base_fig(size)\n",
    "mplot.draw_cell_numbers(ax, maze.maze_array)\n",
    "mplot.color_square(ax, maze.get_coordinates(maze.agent_pos), 'b')\n",
    "mplot.color_square(ax, maze.get_coordinates(maze.reward_pos), 'r')"
   ]
  },
  {
   "cell_type": "code",
   "execution_count": 3,
   "metadata": {},
   "outputs": [],
   "source": [
    "def generate_episode(maze, policy_w):\n",
    "    \n",
    "    s = []\n",
    "    a = []\n",
    "    r = []\n",
    "    \n",
    "    R = 0.0\n",
    "    \n",
    "    while R==0.0:\n",
    "        state = tf.one_hot(maze.agent_pos, maze.tot_room_number, dtype=tf.float32)\n",
    "        s.append(maze.agent_pos)\n",
    "        \n",
    "        y = tf.linalg.matvec(policy_w, state)\n",
    "        action = np.random.choice(np.arange(4), p=tf.nn.softmax(y).numpy())\n",
    "        a.append(action)\n",
    "        \n",
    "        new_state, R = maze.perform_action(action, proba_opposite=pr_opp, proba_others=pr_oth)\n",
    "        r.append(R)\n",
    "        \n",
    "        maze.agent_pos = new_state\n",
    "        \n",
    "        if len(s)>max_episode_length+1:\n",
    "            break\n",
    "        \n",
    "    return s,a,r"
   ]
  },
  {
   "cell_type": "markdown",
   "metadata": {},
   "source": [
    "##### Training loop"
   ]
  },
  {
   "cell_type": "code",
   "execution_count": 4,
   "metadata": {},
   "outputs": [],
   "source": [
    "tot_episodes = 1000\n",
    "tot_trials_per_params = 50\n",
    "\n",
    "max_fails = 50\n",
    "\n",
    "def train_loop(gamma, log_lr, opt=True):\n",
    "      \n",
    "    lr = 10**log_lr\n",
    "\n",
    "    maze.agent_pos = maze.get_random_position()\n",
    "\n",
    "    tot_states = maze.tot_room_number\n",
    "    tot_actions = 4\n",
    "\n",
    "    tot_steps_per_params = []\n",
    "\n",
    "    with trange(tot_trials_per_params, desc='repeat loop', position = 0) as t2:\n",
    "        for _ in t2:\n",
    "            tot_steps = []\n",
    "\n",
    "            W_pi = tf.Variable(np.zeros((tot_actions, tot_states)), dtype=tf.float32, trainable=True)\n",
    "            W_v = tf.Variable(np.zeros((1, tot_states)), dtype=tf.float32, trainable=True)\n",
    "            optimizer = tf.keras.optimizers.Adam(learning_rate=lr)\n",
    "\n",
    "            fail_count = 0\n",
    "            \n",
    "            with trange(tot_episodes, desc='inner loop', position=1, leave=False) as t:\n",
    "                for e in t:\n",
    "                    critic_loss = 0.0\n",
    "                    actor_loss = 0.0\n",
    "                    \n",
    "                    # Generate episode\n",
    "                    s,a,r = generate_episode(maze, tf.stop_gradient(W_pi))\n",
    "                    if len(s) > max_episode_length:\n",
    "                        tot_steps.append(max_episode_length)\n",
    "                        fail_count+=1\n",
    "                        if fail_count>max_fails:\n",
    "                            tot_steps = [max_episode_length]*tot_episodes\n",
    "                            t.close()\n",
    "                            break\n",
    "                        else:\n",
    "                            continue\n",
    "                    tot_steps.append(len(s))\n",
    "                    t.set_postfix(total_steps=len(s), fails=fail_count)                        \n",
    "                    \n",
    "                    # if generated episode is ok, train\n",
    "                    \n",
    "                    with tf.GradientTape() as tape:\n",
    "                        for step, _ in enumerate(s):                            \n",
    "                            time_to_t = len(s) - step\n",
    "                            R = gamma**time_to_t * r[-1]\n",
    "                            \n",
    "                            state = tf.one_hot(s[step], maze.tot_room_number, dtype=tf.float32)\n",
    "                            action = tf.one_hot(a[step], maze.tot_room_number, dtype=tf.float32)\n",
    "\n",
    "                            critic_loss += (tf.linalg.matvec(W_v, state) - R)**2\n",
    "                            stop_grad = tf.stop_gradient(tf.linalg.matvec(W_v, state) - R)\n",
    "                            pi = tf.nn.softmax(tf.linalg.matvec(W_pi, state))\n",
    "                            actor_loss += tf.math.log(pi[a[step]])*stop_grad\n",
    "\n",
    "                        loss = actor_loss + critic_loss\n",
    "                        grads = tape.gradient(loss, [W_v, W_pi])\n",
    "                        optimizer.apply_gradients(zip(grads, [W_v, W_pi]))\n",
    "\n",
    "                    maze.agent_pos = maze.get_random_position()\n",
    "\n",
    "            tot_steps_per_params.append(np.array(tot_steps))\n",
    "            if fail_count>10:\n",
    "                print(f'FAIL, tot_steps_per_params: {tot_steps_per_params}')\n",
    "\n",
    "    tot_steps_per_params = np.array(tot_steps_per_params)\n",
    "    avg_steps = tot_steps_per_params.mean(axis=0)\n",
    "    cumulated_steps = avg_steps.sum()\n",
    "    \n",
    "    if opt is True:\n",
    "        return -cumulated_steps\n",
    "    else:\n",
    "        return W_v, W_pi, tot_steps_per_params"
   ]
  },
  {
   "cell_type": "markdown",
   "metadata": {},
   "source": [
    "## Deterministic actions"
   ]
  },
  {
   "cell_type": "code",
   "execution_count": 6,
   "metadata": {},
   "outputs": [
    {
     "data": {
      "application/vnd.jupyter.widget-view+json": {
       "model_id": "6c94ed1e9f1e491c9e9caebbc5f4cb1d",
       "version_major": 2,
       "version_minor": 0
      },
      "text/plain": [
       "HBox(children=(FloatProgress(value=0.0, description='repeat loop', max=50.0, style=ProgressStyle(description_w…"
      ]
     },
     "metadata": {},
     "output_type": "display_data"
    },
    {
     "data": {
      "application/vnd.jupyter.widget-view+json": {
       "model_id": "",
       "version_major": 2,
       "version_minor": 0
      },
      "text/plain": [
       "HBox(children=(FloatProgress(value=0.0, description='inner loop', max=3000.0, style=ProgressStyle(description_…"
      ]
     },
     "metadata": {},
     "output_type": "display_data"
    },
    {
     "data": {
      "application/vnd.jupyter.widget-view+json": {
       "model_id": "",
       "version_major": 2,
       "version_minor": 0
      },
      "text/plain": [
       "HBox(children=(FloatProgress(value=0.0, description='inner loop', max=3000.0, style=ProgressStyle(description_…"
      ]
     },
     "metadata": {},
     "output_type": "display_data"
    },
    {
     "data": {
      "application/vnd.jupyter.widget-view+json": {
       "model_id": "",
       "version_major": 2,
       "version_minor": 0
      },
      "text/plain": [
       "HBox(children=(FloatProgress(value=0.0, description='inner loop', max=3000.0, style=ProgressStyle(description_…"
      ]
     },
     "metadata": {},
     "output_type": "display_data"
    },
    {
     "data": {
      "application/vnd.jupyter.widget-view+json": {
       "model_id": "",
       "version_major": 2,
       "version_minor": 0
      },
      "text/plain": [
       "HBox(children=(FloatProgress(value=0.0, description='inner loop', max=3000.0, style=ProgressStyle(description_…"
      ]
     },
     "metadata": {},
     "output_type": "display_data"
    },
    {
     "data": {
      "application/vnd.jupyter.widget-view+json": {
       "model_id": "",
       "version_major": 2,
       "version_minor": 0
      },
      "text/plain": [
       "HBox(children=(FloatProgress(value=0.0, description='inner loop', max=3000.0, style=ProgressStyle(description_…"
      ]
     },
     "metadata": {},
     "output_type": "display_data"
    },
    {
     "data": {
      "application/vnd.jupyter.widget-view+json": {
       "model_id": "",
       "version_major": 2,
       "version_minor": 0
      },
      "text/plain": [
       "HBox(children=(FloatProgress(value=0.0, description='inner loop', max=3000.0, style=ProgressStyle(description_…"
      ]
     },
     "metadata": {},
     "output_type": "display_data"
    },
    {
     "data": {
      "application/vnd.jupyter.widget-view+json": {
       "model_id": "",
       "version_major": 2,
       "version_minor": 0
      },
      "text/plain": [
       "HBox(children=(FloatProgress(value=0.0, description='inner loop', max=3000.0, style=ProgressStyle(description_…"
      ]
     },
     "metadata": {},
     "output_type": "display_data"
    },
    {
     "data": {
      "application/vnd.jupyter.widget-view+json": {
       "model_id": "",
       "version_major": 2,
       "version_minor": 0
      },
      "text/plain": [
       "HBox(children=(FloatProgress(value=0.0, description='inner loop', max=3000.0, style=ProgressStyle(description_…"
      ]
     },
     "metadata": {},
     "output_type": "display_data"
    },
    {
     "data": {
      "application/vnd.jupyter.widget-view+json": {
       "model_id": "",
       "version_major": 2,
       "version_minor": 0
      },
      "text/plain": [
       "HBox(children=(FloatProgress(value=0.0, description='inner loop', max=3000.0, style=ProgressStyle(description_…"
      ]
     },
     "metadata": {},
     "output_type": "display_data"
    },
    {
     "data": {
      "application/vnd.jupyter.widget-view+json": {
       "model_id": "",
       "version_major": 2,
       "version_minor": 0
      },
      "text/plain": [
       "HBox(children=(FloatProgress(value=0.0, description='inner loop', max=3000.0, style=ProgressStyle(description_…"
      ]
     },
     "metadata": {},
     "output_type": "display_data"
    },
    {
     "data": {
      "application/vnd.jupyter.widget-view+json": {
       "model_id": "",
       "version_major": 2,
       "version_minor": 0
      },
      "text/plain": [
       "HBox(children=(FloatProgress(value=0.0, description='inner loop', max=3000.0, style=ProgressStyle(description_…"
      ]
     },
     "metadata": {},
     "output_type": "display_data"
    },
    {
     "data": {
      "application/vnd.jupyter.widget-view+json": {
       "model_id": "",
       "version_major": 2,
       "version_minor": 0
      },
      "text/plain": [
       "HBox(children=(FloatProgress(value=0.0, description='inner loop', max=3000.0, style=ProgressStyle(description_…"
      ]
     },
     "metadata": {},
     "output_type": "display_data"
    },
    {
     "data": {
      "application/vnd.jupyter.widget-view+json": {
       "model_id": "",
       "version_major": 2,
       "version_minor": 0
      },
      "text/plain": [
       "HBox(children=(FloatProgress(value=0.0, description='inner loop', max=3000.0, style=ProgressStyle(description_…"
      ]
     },
     "metadata": {},
     "output_type": "display_data"
    },
    {
     "data": {
      "application/vnd.jupyter.widget-view+json": {
       "model_id": "",
       "version_major": 2,
       "version_minor": 0
      },
      "text/plain": [
       "HBox(children=(FloatProgress(value=0.0, description='inner loop', max=3000.0, style=ProgressStyle(description_…"
      ]
     },
     "metadata": {},
     "output_type": "display_data"
    },
    {
     "data": {
      "application/vnd.jupyter.widget-view+json": {
       "model_id": "",
       "version_major": 2,
       "version_minor": 0
      },
      "text/plain": [
       "HBox(children=(FloatProgress(value=0.0, description='inner loop', max=3000.0, style=ProgressStyle(description_…"
      ]
     },
     "metadata": {},
     "output_type": "display_data"
    },
    {
     "data": {
      "application/vnd.jupyter.widget-view+json": {
       "model_id": "",
       "version_major": 2,
       "version_minor": 0
      },
      "text/plain": [
       "HBox(children=(FloatProgress(value=0.0, description='inner loop', max=3000.0, style=ProgressStyle(description_…"
      ]
     },
     "metadata": {},
     "output_type": "display_data"
    },
    {
     "data": {
      "application/vnd.jupyter.widget-view+json": {
       "model_id": "",
       "version_major": 2,
       "version_minor": 0
      },
      "text/plain": [
       "HBox(children=(FloatProgress(value=0.0, description='inner loop', max=3000.0, style=ProgressStyle(description_…"
      ]
     },
     "metadata": {},
     "output_type": "display_data"
    },
    {
     "data": {
      "application/vnd.jupyter.widget-view+json": {
       "model_id": "",
       "version_major": 2,
       "version_minor": 0
      },
      "text/plain": [
       "HBox(children=(FloatProgress(value=0.0, description='inner loop', max=3000.0, style=ProgressStyle(description_…"
      ]
     },
     "metadata": {},
     "output_type": "display_data"
    },
    {
     "data": {
      "application/vnd.jupyter.widget-view+json": {
       "model_id": "",
       "version_major": 2,
       "version_minor": 0
      },
      "text/plain": [
       "HBox(children=(FloatProgress(value=0.0, description='inner loop', max=3000.0, style=ProgressStyle(description_…"
      ]
     },
     "metadata": {},
     "output_type": "display_data"
    },
    {
     "data": {
      "application/vnd.jupyter.widget-view+json": {
       "model_id": "",
       "version_major": 2,
       "version_minor": 0
      },
      "text/plain": [
       "HBox(children=(FloatProgress(value=0.0, description='inner loop', max=3000.0, style=ProgressStyle(description_…"
      ]
     },
     "metadata": {},
     "output_type": "display_data"
    },
    {
     "data": {
      "application/vnd.jupyter.widget-view+json": {
       "model_id": "",
       "version_major": 2,
       "version_minor": 0
      },
      "text/plain": [
       "HBox(children=(FloatProgress(value=0.0, description='inner loop', max=3000.0, style=ProgressStyle(description_…"
      ]
     },
     "metadata": {},
     "output_type": "display_data"
    },
    {
     "data": {
      "application/vnd.jupyter.widget-view+json": {
       "model_id": "",
       "version_major": 2,
       "version_minor": 0
      },
      "text/plain": [
       "HBox(children=(FloatProgress(value=0.0, description='inner loop', max=3000.0, style=ProgressStyle(description_…"
      ]
     },
     "metadata": {},
     "output_type": "display_data"
    },
    {
     "data": {
      "application/vnd.jupyter.widget-view+json": {
       "model_id": "",
       "version_major": 2,
       "version_minor": 0
      },
      "text/plain": [
       "HBox(children=(FloatProgress(value=0.0, description='inner loop', max=3000.0, style=ProgressStyle(description_…"
      ]
     },
     "metadata": {},
     "output_type": "display_data"
    },
    {
     "data": {
      "application/vnd.jupyter.widget-view+json": {
       "model_id": "",
       "version_major": 2,
       "version_minor": 0
      },
      "text/plain": [
       "HBox(children=(FloatProgress(value=0.0, description='inner loop', max=3000.0, style=ProgressStyle(description_…"
      ]
     },
     "metadata": {},
     "output_type": "display_data"
    },
    {
     "data": {
      "application/vnd.jupyter.widget-view+json": {
       "model_id": "",
       "version_major": 2,
       "version_minor": 0
      },
      "text/plain": [
       "HBox(children=(FloatProgress(value=0.0, description='inner loop', max=3000.0, style=ProgressStyle(description_…"
      ]
     },
     "metadata": {},
     "output_type": "display_data"
    },
    {
     "data": {
      "application/vnd.jupyter.widget-view+json": {
       "model_id": "",
       "version_major": 2,
       "version_minor": 0
      },
      "text/plain": [
       "HBox(children=(FloatProgress(value=0.0, description='inner loop', max=3000.0, style=ProgressStyle(description_…"
      ]
     },
     "metadata": {},
     "output_type": "display_data"
    },
    {
     "data": {
      "application/vnd.jupyter.widget-view+json": {
       "model_id": "",
       "version_major": 2,
       "version_minor": 0
      },
      "text/plain": [
       "HBox(children=(FloatProgress(value=0.0, description='inner loop', max=3000.0, style=ProgressStyle(description_…"
      ]
     },
     "metadata": {},
     "output_type": "display_data"
    },
    {
     "data": {
      "application/vnd.jupyter.widget-view+json": {
       "model_id": "",
       "version_major": 2,
       "version_minor": 0
      },
      "text/plain": [
       "HBox(children=(FloatProgress(value=0.0, description='inner loop', max=3000.0, style=ProgressStyle(description_…"
      ]
     },
     "metadata": {},
     "output_type": "display_data"
    },
    {
     "data": {
      "application/vnd.jupyter.widget-view+json": {
       "model_id": "",
       "version_major": 2,
       "version_minor": 0
      },
      "text/plain": [
       "HBox(children=(FloatProgress(value=0.0, description='inner loop', max=3000.0, style=ProgressStyle(description_…"
      ]
     },
     "metadata": {},
     "output_type": "display_data"
    },
    {
     "data": {
      "application/vnd.jupyter.widget-view+json": {
       "model_id": "",
       "version_major": 2,
       "version_minor": 0
      },
      "text/plain": [
       "HBox(children=(FloatProgress(value=0.0, description='inner loop', max=3000.0, style=ProgressStyle(description_…"
      ]
     },
     "metadata": {},
     "output_type": "display_data"
    },
    {
     "data": {
      "application/vnd.jupyter.widget-view+json": {
       "model_id": "",
       "version_major": 2,
       "version_minor": 0
      },
      "text/plain": [
       "HBox(children=(FloatProgress(value=0.0, description='inner loop', max=3000.0, style=ProgressStyle(description_…"
      ]
     },
     "metadata": {},
     "output_type": "display_data"
    },
    {
     "data": {
      "application/vnd.jupyter.widget-view+json": {
       "model_id": "",
       "version_major": 2,
       "version_minor": 0
      },
      "text/plain": [
       "HBox(children=(FloatProgress(value=0.0, description='inner loop', max=3000.0, style=ProgressStyle(description_…"
      ]
     },
     "metadata": {},
     "output_type": "display_data"
    },
    {
     "data": {
      "application/vnd.jupyter.widget-view+json": {
       "model_id": "",
       "version_major": 2,
       "version_minor": 0
      },
      "text/plain": [
       "HBox(children=(FloatProgress(value=0.0, description='inner loop', max=3000.0, style=ProgressStyle(description_…"
      ]
     },
     "metadata": {},
     "output_type": "display_data"
    },
    {
     "data": {
      "application/vnd.jupyter.widget-view+json": {
       "model_id": "",
       "version_major": 2,
       "version_minor": 0
      },
      "text/plain": [
       "HBox(children=(FloatProgress(value=0.0, description='inner loop', max=3000.0, style=ProgressStyle(description_…"
      ]
     },
     "metadata": {},
     "output_type": "display_data"
    },
    {
     "data": {
      "application/vnd.jupyter.widget-view+json": {
       "model_id": "",
       "version_major": 2,
       "version_minor": 0
      },
      "text/plain": [
       "HBox(children=(FloatProgress(value=0.0, description='inner loop', max=3000.0, style=ProgressStyle(description_…"
      ]
     },
     "metadata": {},
     "output_type": "display_data"
    },
    {
     "data": {
      "application/vnd.jupyter.widget-view+json": {
       "model_id": "",
       "version_major": 2,
       "version_minor": 0
      },
      "text/plain": [
       "HBox(children=(FloatProgress(value=0.0, description='inner loop', max=3000.0, style=ProgressStyle(description_…"
      ]
     },
     "metadata": {},
     "output_type": "display_data"
    },
    {
     "data": {
      "application/vnd.jupyter.widget-view+json": {
       "model_id": "",
       "version_major": 2,
       "version_minor": 0
      },
      "text/plain": [
       "HBox(children=(FloatProgress(value=0.0, description='inner loop', max=3000.0, style=ProgressStyle(description_…"
      ]
     },
     "metadata": {},
     "output_type": "display_data"
    },
    {
     "data": {
      "application/vnd.jupyter.widget-view+json": {
       "model_id": "",
       "version_major": 2,
       "version_minor": 0
      },
      "text/plain": [
       "HBox(children=(FloatProgress(value=0.0, description='inner loop', max=3000.0, style=ProgressStyle(description_…"
      ]
     },
     "metadata": {},
     "output_type": "display_data"
    },
    {
     "data": {
      "application/vnd.jupyter.widget-view+json": {
       "model_id": "",
       "version_major": 2,
       "version_minor": 0
      },
      "text/plain": [
       "HBox(children=(FloatProgress(value=0.0, description='inner loop', max=3000.0, style=ProgressStyle(description_…"
      ]
     },
     "metadata": {},
     "output_type": "display_data"
    },
    {
     "data": {
      "application/vnd.jupyter.widget-view+json": {
       "model_id": "",
       "version_major": 2,
       "version_minor": 0
      },
      "text/plain": [
       "HBox(children=(FloatProgress(value=0.0, description='inner loop', max=3000.0, style=ProgressStyle(description_…"
      ]
     },
     "metadata": {},
     "output_type": "display_data"
    },
    {
     "data": {
      "application/vnd.jupyter.widget-view+json": {
       "model_id": "",
       "version_major": 2,
       "version_minor": 0
      },
      "text/plain": [
       "HBox(children=(FloatProgress(value=0.0, description='inner loop', max=3000.0, style=ProgressStyle(description_…"
      ]
     },
     "metadata": {},
     "output_type": "display_data"
    },
    {
     "data": {
      "application/vnd.jupyter.widget-view+json": {
       "model_id": "",
       "version_major": 2,
       "version_minor": 0
      },
      "text/plain": [
       "HBox(children=(FloatProgress(value=0.0, description='inner loop', max=3000.0, style=ProgressStyle(description_…"
      ]
     },
     "metadata": {},
     "output_type": "display_data"
    },
    {
     "data": {
      "application/vnd.jupyter.widget-view+json": {
       "model_id": "",
       "version_major": 2,
       "version_minor": 0
      },
      "text/plain": [
       "HBox(children=(FloatProgress(value=0.0, description='inner loop', max=3000.0, style=ProgressStyle(description_…"
      ]
     },
     "metadata": {},
     "output_type": "display_data"
    },
    {
     "data": {
      "application/vnd.jupyter.widget-view+json": {
       "model_id": "",
       "version_major": 2,
       "version_minor": 0
      },
      "text/plain": [
       "HBox(children=(FloatProgress(value=0.0, description='inner loop', max=3000.0, style=ProgressStyle(description_…"
      ]
     },
     "metadata": {},
     "output_type": "display_data"
    },
    {
     "data": {
      "application/vnd.jupyter.widget-view+json": {
       "model_id": "",
       "version_major": 2,
       "version_minor": 0
      },
      "text/plain": [
       "HBox(children=(FloatProgress(value=0.0, description='inner loop', max=3000.0, style=ProgressStyle(description_…"
      ]
     },
     "metadata": {},
     "output_type": "display_data"
    },
    {
     "data": {
      "application/vnd.jupyter.widget-view+json": {
       "model_id": "",
       "version_major": 2,
       "version_minor": 0
      },
      "text/plain": [
       "HBox(children=(FloatProgress(value=0.0, description='inner loop', max=3000.0, style=ProgressStyle(description_…"
      ]
     },
     "metadata": {},
     "output_type": "display_data"
    },
    {
     "data": {
      "application/vnd.jupyter.widget-view+json": {
       "model_id": "",
       "version_major": 2,
       "version_minor": 0
      },
      "text/plain": [
       "HBox(children=(FloatProgress(value=0.0, description='inner loop', max=3000.0, style=ProgressStyle(description_…"
      ]
     },
     "metadata": {},
     "output_type": "display_data"
    },
    {
     "data": {
      "application/vnd.jupyter.widget-view+json": {
       "model_id": "",
       "version_major": 2,
       "version_minor": 0
      },
      "text/plain": [
       "HBox(children=(FloatProgress(value=0.0, description='inner loop', max=3000.0, style=ProgressStyle(description_…"
      ]
     },
     "metadata": {},
     "output_type": "display_data"
    },
    {
     "data": {
      "application/vnd.jupyter.widget-view+json": {
       "model_id": "",
       "version_major": 2,
       "version_minor": 0
      },
      "text/plain": [
       "HBox(children=(FloatProgress(value=0.0, description='inner loop', max=3000.0, style=ProgressStyle(description_…"
      ]
     },
     "metadata": {},
     "output_type": "display_data"
    },
    {
     "data": {
      "application/vnd.jupyter.widget-view+json": {
       "model_id": "",
       "version_major": 2,
       "version_minor": 0
      },
      "text/plain": [
       "HBox(children=(FloatProgress(value=0.0, description='inner loop', max=3000.0, style=ProgressStyle(description_…"
      ]
     },
     "metadata": {},
     "output_type": "display_data"
    },
    {
     "name": "stdout",
     "output_type": "stream",
     "text": [
      "\n"
     ]
    }
   ],
   "source": [
    "pr_opp=0.0\n",
    "pr_oth=0.0\n",
    "max_episode_length = 1500\n",
    "W_v_nostoch, W_pi_nostoch, tot_steps_per_params = train_loop(gamma=0.9, log_lr=-2.0, opt=False)"
   ]
  },
  {
   "cell_type": "code",
   "execution_count": 7,
   "metadata": {},
   "outputs": [
    {
     "data": {
      "text/plain": [
       "Text(0.5, 1.0, 'total steps to reach reward')"
      ]
     },
     "execution_count": 7,
     "metadata": {},
     "output_type": "execute_result"
    },
    {
     "data": {
      "image/png": "[encoded data removed]",
      "text/plain": [
       "<Figure size 432x288 with 1 Axes>"
      ]
     },
     "metadata": {
      "needs_background": "light"
     },
     "output_type": "display_data"
    }
   ],
   "source": [
    "avg_steps_nostoch = tot_steps_per_params.mean(axis=0)\n",
    "low_steps_nostoch = np.percentile(tot_steps_per_params, 5 ,axis=0)\n",
    "high_steps_nostoch = np.percentile(tot_steps_per_params, 95 ,axis=0)\n",
    "\n",
    "plt.plot(avg_steps_nostoch)\n",
    "plt.fill_between(np.arange(len(avg_steps_nostoch)), high_steps_nostoch, low_steps_nostoch, facecolor='blue', alpha=0.5)\n",
    "plt.xscale('log')\n",
    "plt.xlim([1,len(avg_steps_nostoch)])\n",
    "plt.title('total steps to reach reward')"
   ]
  },
  {
   "cell_type": "code",
   "execution_count": null,
   "metadata": {},
   "outputs": [],
   "source": [
    "values=[]\n",
    "\n",
    "for room in range(maze.tot_room_number):\n",
    "    state = tf.one_hot(room, maze.tot_room_number, dtype=tf.float32)\n",
    "    values.append(f\"{tf.linalg.matvec(W_v_nostoch, state).numpy()[0]:.2f}\")\n",
    "    \n",
    "values_nostoch = np.array(values).reshape(size[0],size[1])"
   ]
  },
  {
   "cell_type": "code",
   "execution_count": null,
   "metadata": {},
   "outputs": [],
   "source": [
    "# best action according to pi\n",
    "size = (8,8)\n",
    "fig, ax = mplot.base_fig(size)\n",
    "mplot.draw_cell_numbers(ax, values_nostoch)\n",
    "\n",
    "for room in range(maze.tot_room_number):\n",
    "    state = tf.one_hot(room, maze.tot_room_number, dtype=tf.float32)\n",
    "    best_action = tf.math.argmax(tf.linalg.matvec(W_pi_nostoch, state)).numpy()\n",
    "    _, next_state = maze.step(room, maze.moves_list[best_action])\n",
    "    mplot.draw_arrow(ax, maze.get_coordinates(room), next_state, color='r')"
   ]
  },
  {
   "cell_type": "code",
   "execution_count": null,
   "metadata": {},
   "outputs": [],
   "source": [
    "gamma = 0.8829873789358123\n",
    "_ = [print(gamma**t) for t in range(7)] "
   ]
  },
  {
   "cell_type": "code",
   "execution_count": null,
   "metadata": {},
   "outputs": [],
   "source": [
    "# pbounds = {'gamma': (0.80, 0.999), 'log_lr': (-3.0, 0.0)}\n",
    "\n",
    "# optimizer = BayesianOptimization(\n",
    "#     f=train_loop,\n",
    "#     pbounds=pbounds,\n",
    "#     random_state=1,\n",
    "# )\n",
    "\n",
    "# optimizer.maximize(\n",
    "#     init_points=2,\n",
    "#     n_iter=10,\n",
    "# )"
   ]
  },
  {
   "cell_type": "markdown",
   "metadata": {},
   "source": [
    "## Slightly stochastic actions"
   ]
  },
  {
   "cell_type": "code",
   "execution_count": null,
   "metadata": {},
   "outputs": [],
   "source": [
    "pr_opp=0.10\n",
    "pr_oth=0.10\n",
    "max_episode_length = 1500\n",
    "W_v_stoch, W_pi_stoch, tot_steps_per_params = train_loop(gamma=0.8829873789358123, log_lr=-0.8390265196735256, opt=False)"
   ]
  },
  {
   "cell_type": "code",
   "execution_count": null,
   "metadata": {},
   "outputs": [],
   "source": [
    "avg_steps_stoch = tot_steps_per_params.mean(axis=0)\n",
    "low_steps_stoch = np.percentile(tot_steps_per_params, 5 ,axis=0)\n",
    "high_steps_stoch = np.percentile(tot_steps_per_params, 95 ,axis=0)\n",
    "\n",
    "fig, (ax1, ax2) = plt.subplots(1,2, figsize=(15,5))\n",
    "\n",
    "ax1.plot(avg_steps_stoch)\n",
    "ax1.fill_between(np.arange(len(avg_steps_stoch)), high_steps_stoch, low_steps_stoch, facecolor='blue', alpha=0.5)\n",
    "ax1.set_xscale('log')\n",
    "ax1.set_xlim([1,len(avg_steps_stoch)])\n",
    "ax1.set_title('Stochastic actions')\n",
    "\n",
    "ax2.plot(avg_steps_nostoch)\n",
    "ax2.fill_between(np.arange(len(avg_steps_nostoch)), high_steps_nostoch, low_steps_nostoch, facecolor='blue', alpha=0.5)\n",
    "ax2.set_xscale('log')\n",
    "ax2.set_xlim([1,len(avg_steps_nostoch)])\n",
    "ax2.set_ylim(ax1.get_ylim())\n",
    "ax2.set_title('Deterministic actions')"
   ]
  },
  {
   "cell_type": "code",
   "execution_count": null,
   "metadata": {},
   "outputs": [],
   "source": [
    "values=[]\n",
    "\n",
    "for room in range(maze.tot_room_number):\n",
    "    state = tf.one_hot(room, maze.tot_room_number, dtype=tf.float32)\n",
    "    values.append(f\"{tf.linalg.matvec(W_v_stoch, state).numpy()[0]:.2f}\")\n",
    "    \n",
    "values_stoch = np.array(values).reshape(size[0],size[1])\n",
    "\n",
    "size = (8,8)\n",
    "\n",
    "fig, (ax1, ax2) = plt.subplots(1,2, figsize=(11,5))\n",
    "\n",
    "# best action according to pi\n",
    "\n",
    "mplot.base_fig(size, ax1)\n",
    "mplot.draw_cell_numbers(ax1, values_stoch)\n",
    "ax1.set_title('Stochastic actions')\n",
    "\n",
    "for room in range(maze.tot_room_number):\n",
    "    state = tf.one_hot(room, maze.tot_room_number, dtype=tf.float32)\n",
    "    best_action = tf.math.argmax(tf.linalg.matvec(W_pi_stoch, state)).numpy()\n",
    "    _, next_state = maze.step(room, maze.moves_list[best_action])\n",
    "    mplot.draw_arrow(ax1, maze.get_coordinates(room), next_state, color='r')\n",
    "    \n",
    "mplot.base_fig(size, ax2)\n",
    "mplot.draw_cell_numbers(ax2, values_nostoch)\n",
    "ax2.set_title('Deterministic actions')\n",
    "\n",
    "for room in range(maze.tot_room_number):\n",
    "    state = tf.one_hot(room, maze.tot_room_number, dtype=tf.float32)\n",
    "    best_action = tf.math.argmax(tf.linalg.matvec(W_pi_nostoch, state)).numpy()\n",
    "    _, next_state = maze.step(room, maze.moves_list[best_action])\n",
    "    mplot.draw_arrow(ax2, maze.get_coordinates(room), next_state, color='r')"
   ]
  },
  {
   "cell_type": "code",
   "execution_count": null,
   "metadata": {},
   "outputs": [],
   "source": [
    "state = tf.one_hot(12, maze.tot_room_number, dtype=tf.float32)\n",
    "tf.linalg.matvec(W_pi_stoch, state).numpy()"
   ]
  },
  {
   "cell_type": "code",
   "execution_count": null,
   "metadata": {},
   "outputs": [],
   "source": [
    "\n",
    "\n",
    "\n",
    "gamma = 0.8829873789358123\n",
    "_ = [print(gamma**t) for t in range(7)] "
   ]
  },
  {
   "cell_type": "code",
   "execution_count": null,
   "metadata": {},
   "outputs": [],
   "source": []
  },
  {
   "cell_type": "code",
   "execution_count": null,
   "metadata": {},
   "outputs": [],
   "source": []
  },
  {
   "cell_type": "code",
   "execution_count": null,
   "metadata": {},
   "outputs": [],
   "source": []
  },
  {
   "cell_type": "code",
   "execution_count": null,
   "metadata": {},
   "outputs": [],
   "source": []
  },
  {
   "cell_type": "code",
   "execution_count": null,
   "metadata": {},
   "outputs": [],
   "source": []
  },
  {
   "cell_type": "code",
   "execution_count": null,
   "metadata": {},
   "outputs": [],
   "source": []
  },
  {
   "cell_type": "code",
   "execution_count": null,
   "metadata": {},
   "outputs": [],
   "source": []
  },
  {
   "cell_type": "code",
   "execution_count": null,
   "metadata": {},
   "outputs": [],
   "source": []
  },
  {
   "cell_type": "code",
   "execution_count": null,
   "metadata": {},
   "outputs": [],
   "source": []
  },
  {
   "cell_type": "code",
   "execution_count": null,
   "metadata": {},
   "outputs": [],
   "source": []
  },
  {
   "cell_type": "code",
   "execution_count": null,
   "metadata": {},
   "outputs": [],
   "source": []
  },
  {
   "cell_type": "code",
   "execution_count": null,
   "metadata": {},
   "outputs": [],
   "source": []
  },
  {
   "cell_type": "code",
   "execution_count": null,
   "metadata": {},
   "outputs": [],
   "source": []
  },
  {
   "cell_type": "code",
   "execution_count": null,
   "metadata": {},
   "outputs": [],
   "source": []
  },
  {
   "cell_type": "code",
   "execution_count": null,
   "metadata": {},
   "outputs": [],
   "source": []
  },
  {
   "cell_type": "code",
   "execution_count": null,
   "metadata": {},
   "outputs": [],
   "source": []
  },
  {
   "cell_type": "code",
   "execution_count": null,
   "metadata": {},
   "outputs": [],
   "source": []
  },
  {
   "cell_type": "code",
   "execution_count": null,
   "metadata": {},
   "outputs": [],
   "source": []
  },
  {
   "cell_type": "code",
   "execution_count": null,
   "metadata": {
    "scrolled": false
   },
   "outputs": [],
   "source": [
    "# import matplotlib.pyplot as plt\n",
    "# from matplotlib import cm\n",
    "# from matplotlib import mlab\n",
    "# from matplotlib import gridspec\n",
    "# %matplotlib inline\n",
    "\n",
    "\n",
    "\n",
    "# def unique_rows(a):\n",
    "#     \"\"\"\n",
    "#     A functions to trim repeated rows that may appear when optimizing.\n",
    "#     This is necessary to avoid the sklearn GP object from breaking\n",
    "\n",
    "#     :param a: array to trim repeated rows from\n",
    "\n",
    "#     :return: mask of unique rows\n",
    "#     \"\"\"\n",
    "\n",
    "#     # Sort array and kep track of where things should go back to\n",
    "#     order = np.lexsort(a.T)\n",
    "#     reorder = np.argsort(order)\n",
    "\n",
    "#     a = a[order]\n",
    "#     diff = np.diff(a, axis=0)\n",
    "#     ui = np.ones(len(a), 'bool')\n",
    "#     ui[1:] = (diff != 0).any(axis=1)\n",
    "\n",
    "#     return ui[reorder]\n",
    "\n",
    "# x = np.linspace(0.0, 2.0, 300)\n",
    "# y = np.linspace(-3.0, 0.0, 300)\n",
    "# X, Y = np.meshgrid(x, y)\n",
    "# x = X.ravel()\n",
    "# y = Y.ravel()\n",
    "# # X = np.vstack([x, y]).T[:, [1, 0]]\n",
    "# X = np.vstack([x, y]).T[:, [0, 1]]\n",
    "\n",
    "# def posterior(bo, X):\n",
    "# #     ur = unique_rows(bo.X)\n",
    "#     bo._gp.fit(bo._space.params, bo._space.target)\n",
    "#     mu, sigma2 = bo._gp.predict(X, return_std=True)\n",
    "#     return mu, np.sqrt(sigma2)\n",
    "\n",
    "# def plot_2d(name=None):\n",
    "\n",
    "#     mu, s = posterior(bo, X)\n",
    "\n",
    "#     print(mu, s)\n",
    "    \n",
    "#     fig, ax = plt.subplots(1, 2, figsize=(14, 6))\n",
    "#     gridsize=150\n",
    "\n",
    "#     # fig.suptitle('Bayesian Optimization in Action', fontdict={'size':30})\n",
    "\n",
    "#     # GP regression output\n",
    "#     ax[0].set_title('Gaussian Process Predicted Mean', fontdict={'size':15})\n",
    "#     im00 = ax[0].hexbin(x, y, C=mu, gridsize=gridsize, cmap=cm.jet, bins=None)\n",
    "#     ax[0].axis([x.min(), x.max(), y.min(), y.max()])\n",
    "#     ax[0].plot(bo._space.params[:, 1], bo._space.params[:, 0], 'D', markersize=4, color='k', label='Observations')\n",
    "\n",
    "\n",
    "#     ax[1].set_title('Gausian Process Variance', fontdict={'size':15})\n",
    "#     im01 = ax[1].hexbin(x, y, C=s, gridsize=gridsize, cmap=cm.jet, bins=None)\n",
    "#     ax[1].axis([x.min(), x.max(), y.min(), y.max()])\n",
    "\n",
    "\n",
    "#     for im, axis in zip([im00, im01], ax.flatten()):\n",
    "#         cb = fig.colorbar(im, ax=axis)\n",
    "#         # cb.set_label('Value')\n",
    "\n",
    "#     if name is None:\n",
    "#         name = '_'\n",
    "\n",
    "#     plt.tight_layout()\n",
    "\n",
    "#     # Save or show figure?\n",
    "#     # fig.savefig('bo_eg_' + name + '.png')\n",
    "#     plt.show()\n",
    "\n",
    "\n",
    "# # plot_2d(\"test\")"
   ]
  },
  {
   "cell_type": "code",
   "execution_count": null,
   "metadata": {},
   "outputs": [],
   "source": [
    "# pbounds = {'gamma': (0.0, 1.99), 'log_lr': (-3.0, 0.0)}\n",
    "\n",
    "# bo = BayesianOptimization(\n",
    "#     f=train_loop,\n",
    "#     pbounds=pbounds\n",
    "# #     random_state=1,\n",
    "# )\n",
    "\n",
    "# bo.maximize(\n",
    "#     init_points=3,\n",
    "#     n_iter=0,\n",
    "# #     kappa=250,\n",
    "#     normalize_y=True\n",
    "# )"
   ]
  },
  {
   "cell_type": "code",
   "execution_count": null,
   "metadata": {},
   "outputs": [],
   "source": [
    "# plot_2d(\"test\")"
   ]
  },
  {
   "cell_type": "code",
   "execution_count": null,
   "metadata": {},
   "outputs": [],
   "source": [
    "2328.75"
   ]
  },
  {
   "cell_type": "code",
   "execution_count": null,
   "metadata": {},
   "outputs": [],
   "source": [
    "# bo._gp.predict([[ 0.883, -0.839]], return_std=True)"
   ]
  },
  {
   "cell_type": "code",
   "execution_count": null,
   "metadata": {},
   "outputs": [],
   "source": [
    "# Xtemp = X[:,0].copy()\n",
    "# X[:,0] = X[:,1].copy()\n",
    "# X[:,1] = Xtemp\n",
    "# X"
   ]
  },
  {
   "cell_type": "code",
   "execution_count": null,
   "metadata": {},
   "outputs": [],
   "source": [
    "# aa,bb = bo._gp.predict(X, return_std=True)"
   ]
  }
 ],
 "metadata": {
  "kernelspec": {
   "display_name": "Python 3",
   "language": "python",
   "name": "python3"
  },
  "language_info": {
   "codemirror_mode": {
    "name": "ipython",
    "version": 3
   },
   "file_extension": ".py",
   "mimetype": "text/x-python",
   "name": "python",
   "nbconvert_exporter": "python",
   "pygments_lexer": "ipython3",
   "version": "3.7.6"
  }
 },
 "nbformat": 4,
 "nbformat_minor": 4
}

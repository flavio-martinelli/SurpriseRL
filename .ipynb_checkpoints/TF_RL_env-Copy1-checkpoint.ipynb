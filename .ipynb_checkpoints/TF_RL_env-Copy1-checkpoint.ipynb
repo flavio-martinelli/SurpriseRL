{
 "cells": [
  {
   "cell_type": "code",
   "execution_count": 11,
   "metadata": {},
   "outputs": [],
   "source": [
    "\"\"\"\n",
    "Created by Flavio Martinelli at 13:09 18/05/2020\n",
    "\"\"\"\n",
    "import colorama\n",
    "import numpy as np\n",
    "import numpy.random as rd\n",
    "import matplotlib.pyplot as plt\n",
    "import maze_plot as mplot\n",
    "import tensorflow as tf\n",
    "import tensorflow_probability as tfp\n",
    "import tf_agents.networks.network as tf_network\n",
    "\n",
    "from tqdm.notebook import trange, tqdm\n",
    "from tf_agents.environments import utils\n",
    "from tf_agents.environments import tf_py_environment\n",
    "from tf_agents.policies import actor_policy\n",
    "from tf_agents.trajectories import time_step as ts\n",
    "from tf_agents.metrics import tf_metrics\n",
    "from tf_agents.drivers import dynamic_episode_driver\n",
    "from tf_agents.drivers import dynamic_step_driver\n",
    "from tf_agents.specs import array_spec\n",
    "\n",
    "from maze_tf import Maze2D"
   ]
  },
  {
   "cell_type": "markdown",
   "metadata": {},
   "source": [
    "### Create environment"
   ]
  },
  {
   "cell_type": "code",
   "execution_count": 12,
   "metadata": {},
   "outputs": [
    {
     "name": "stdout",
     "output_type": "stream",
     "text": [
      "State: \t 12\n",
      "Reward position: 5\n"
     ]
    },
    {
     "data": {
      "image/png": "[encoded data removed]",
      "text/plain": [
       "<Figure size 288x288 with 1 Axes>"
      ]
     },
     "metadata": {
      "needs_background": "light"
     },
     "output_type": "display_data"
    }
   ],
   "source": [
    "size=(4,4)\n",
    "\n",
    "environment = Maze2D(size, walls=True, gamma=0.9, proba_opposite=0.0333, proba_others=0.0333)\n",
    "environment = tf_py_environment.TFPyEnvironment(environment)\n",
    "\n",
    "# Reset environment and creates first initial_time_step of trajectory\n",
    "initial_time_step = environment.reset()\n",
    "print(f\"State: \\t {initial_time_step.observation[0,0].numpy()}\")\n",
    "print(f\"Reward position: {environment.pyenv.envs[0].reward_pos}\")\n",
    "\n",
    "fig, ax = mplot.base_fig(size)\n",
    "mplot.draw_cell_numbers(ax, environment.pyenv.envs[0].maze_array)\n",
    "mplot.color_square(ax, environment.pyenv.envs[0].get_coordinates(environment.pyenv.envs[0]._state), 'b')\n",
    "mplot.color_square(ax, environment.pyenv.envs[0].get_coordinates(environment.pyenv.envs[0].reward_pos), 'r')"
   ]
  },
  {
   "cell_type": "markdown",
   "metadata": {},
   "source": [
    "### Useful specs"
   ]
  },
  {
   "cell_type": "code",
   "execution_count": 13,
   "metadata": {},
   "outputs": [
    {
     "name": "stdout",
     "output_type": "stream",
     "text": [
      "4\n",
      "1\n",
      "TimeStep(step_type=TensorSpec(shape=(), dtype=tf.int32, name='step_type'), reward=TensorSpec(shape=(), dtype=tf.float32, name='reward'), discount=BoundedTensorSpec(shape=(), dtype=tf.float32, name='discount', minimum=array(0., dtype=float32), maximum=array(1., dtype=float32)), observation=BoundedTensorSpec(shape=(1,), dtype=tf.int32, name='observation', minimum=array(0), maximum=array(15)))\n",
      "BoundedTensorSpec(shape=(1,), dtype=tf.int32, name='action', minimum=array(0), maximum=array(3))\n",
      "16\n"
     ]
    }
   ],
   "source": [
    "action_shape = environment.action_spec().maximum + 1\n",
    "value_shape = 1\n",
    "print(action_shape)\n",
    "print(value_shape)\n",
    "\n",
    "time_step_spec = ts.time_step_spec(environment.observation_spec())\n",
    "action_spec = environment.action_spec()\n",
    "max_one_hot = np.prod(size)\n",
    "print(time_step_spec)\n",
    "print(action_spec)\n",
    "print(max_one_hot)"
   ]
  },
  {
   "cell_type": "markdown",
   "metadata": {},
   "source": [
    "### Linear Readout Network"
   ]
  },
  {
   "cell_type": "code",
   "execution_count": 14,
   "metadata": {},
   "outputs": [],
   "source": [
    "class ActorLinearReadout(tf_network.Network):\n",
    "\n",
    "    def __init__(self, max_one_hot, output_shape):\n",
    "        self.max_one_hot = max_one_hot\n",
    "        input_state_spec = tf.TensorSpec(shape=(self.max_one_hot), dtype=np.int32, name='one_hot_obs')\n",
    "\n",
    "        super(ActorLinearReadout, self).__init__(\n",
    "            input_tensor_spec=input_state_spec,\n",
    "            state_spec=(),\n",
    "            name='LinearReadout')\n",
    "        \n",
    "        self._sub_layers = [tf.keras.layers.Dense(output_shape,\n",
    "                                                  activation=None, kernel_initializer='zero',\n",
    "                                                  use_bias=False)]\n",
    "\n",
    "    def call(self, observations, step_type, network_state):\n",
    "        del step_type\n",
    "        \n",
    "        # Transform int32 state into one_hot encoded tensor\n",
    "        output = tf.one_hot(indices=observations, depth=self.max_one_hot, dtype=tf.float32, axis=-1)\n",
    "        \n",
    "        for layer in self._sub_layers:\n",
    "            output = layer(output)\n",
    "        output = tf.nn.softmax(output)\n",
    "        \n",
    "        actions_categorical_dist = tfp.distributions.Categorical(probs=output, dtype=tf.int32)\n",
    "        \n",
    "        # Scale and shift actions to the correct range if necessary.\n",
    "        return actions_categorical_dist, network_state\n",
    "    \n",
    "class CriticLinearReadout(tf_network.Network):\n",
    "\n",
    "    def __init__(self, max_one_hot, output_shape):\n",
    "        self.max_one_hot = max_one_hot\n",
    "        input_state_spec = tf.TensorSpec(shape=(self.max_one_hot), dtype=np.int32, name='one_hot_obs')\n",
    "\n",
    "        super(CriticLinearReadout, self).__init__(\n",
    "            input_tensor_spec=input_state_spec,\n",
    "            state_spec=(),\n",
    "            name='LinearReadout')\n",
    "        \n",
    "        self._sub_layers = [tf.keras.layers.Dense(output_shape,\n",
    "                                                  activation=None, kernel_initializer='zero',\n",
    "                                                  use_bias=False)]\n",
    "\n",
    "    def call(self, observations, step_type, network_state):\n",
    "        del step_type\n",
    "        \n",
    "        # Transform int32 state into one_hot encoded tensor\n",
    "        output = tf.one_hot(indices=observations, depth=self.max_one_hot, dtype=tf.float32, axis=-1)\n",
    "\n",
    "        for layer in self._sub_layers:\n",
    "            output = layer(output)\n",
    "                \n",
    "        # Scale and shift actions to the correct range if necessary.\n",
    "        return tf.squeeze(output, axis=-1), network_state"
   ]
  },
  {
   "cell_type": "markdown",
   "metadata": {},
   "source": [
    "### Define networks and policies"
   ]
  },
  {
   "cell_type": "code",
   "execution_count": 15,
   "metadata": {
    "scrolled": false
   },
   "outputs": [],
   "source": [
    "actor_net = ActorLinearReadout(max_one_hot, action_shape)\n",
    "value_net = CriticLinearReadout(max_one_hot, value_shape)\n",
    "\n",
    "actor = actor_policy.ActorPolicy(time_step_spec=time_step_spec, action_spec=action_spec, actor_network=actor_net)\n",
    "\n",
    "value_net.create_variables()"
   ]
  },
  {
   "cell_type": "markdown",
   "metadata": {},
   "source": [
    "### Define training loop parameters"
   ]
  },
  {
   "cell_type": "code",
   "execution_count": 16,
   "metadata": {},
   "outputs": [],
   "source": [
    "episode_lenght = tf.constant(50)\n",
    "gamma = 0.9\n",
    "batch_size = 1\n",
    "lr = 0.02\n",
    "optimizer = tf.keras.optimizers.Adam(learning_rate=lr)"
   ]
  },
  {
   "cell_type": "markdown",
   "metadata": {},
   "source": [
    "### Define episode collection driver\n",
    "\n",
    "The driver will load actions and observations to the corresponding lists, reinitialize them every new episode.\n",
    "\n",
    "When calling driver.run remember to specify the initial_time_step which should correspond to the initial state of each maze."
   ]
  },
  {
   "cell_type": "code",
   "execution_count": 17,
   "metadata": {},
   "outputs": [],
   "source": [
    "# Pre compute triangular matrix of gamma powers, useful to compute future return\n",
    "increasing_t_steps = tf.range(episode_lenght, dtype=tf.float32)\n",
    "returns = (tf.ones(episode_lenght)*gamma)**increasing_t_steps\n",
    "rolling=[]\n",
    "for r in range(episode_lenght):\n",
    "    rolling.append(tf.roll(returns, r, axis=0))\n",
    "gamma_matrix = tf.linalg.band_part(tf.stack(rolling, axis=0), 0, -1)\n",
    "\n",
    "observations = []\n",
    "actions = []\n",
    "rewards = []\n",
    "collect_obs = lambda rb: observations.append(rb.observation)\n",
    "collect_act = lambda rb: actions.append(rb.action)\n",
    "collect_rew = lambda rb: rewards.append(rb.reward)\n",
    "env_steps = tf_metrics.EnvironmentSteps()\n",
    "\n",
    "observers = [collect_obs, collect_act, collect_rew, env_steps]\n",
    "# driver = dynamic_episode_driver.DynamicEpisodeDriver(environment, actor, observers, num_episodes=1)\n",
    "driver = dynamic_step_driver.DynamicStepDriver(environment, actor, observers, num_steps=episode_lenght)"
   ]
  },
  {
   "cell_type": "markdown",
   "metadata": {},
   "source": [
    "### Train"
   ]
  },
  {
   "cell_type": "code",
   "execution_count": 18,
   "metadata": {},
   "outputs": [],
   "source": [
    "@tf.function(experimental_relax_shapes=False)\n",
    "def loss_fun(value_net, actor_net, observations, actions, rewards, returns, gamma_matrix, optimizer):\n",
    "    \n",
    "    # to substitute with proper batching\n",
    "    returns = tf.expand_dims(tf.linalg.matvec(gamma_matrix, rewards), 0)\n",
    "    \n",
    "    # Compute losses\n",
    "    with tf.GradientTape() as tape:\n",
    "\n",
    "        # critic loss\n",
    "        v_estimates, _ = value_net(observations, (), ())\n",
    "        critic_loss = tf.reduce_sum((v_estimates - returns)**2)\n",
    "\n",
    "        # actor loss\n",
    "        d, _ = actor_net(observations, (), ())\n",
    "        gather_indices = tf.stack([tf.range(tot_time_steps, dtype=tf.int32), actions], axis=1)\n",
    "\n",
    "        log_pi = tf.math.log(tf.gather_nd(tf.squeeze(d.probs, axis=0), gather_indices))\n",
    "\n",
    "        actor_loss = tf.reduce_sum(log_pi*tf.stop_gradient(value_net(observations, (), ())[0] - returns))\n",
    "\n",
    "        loss = critic_loss + actor_loss\n",
    "\n",
    "        grads = tape.gradient(loss, actor_net.trainable_weights + value_net.trainable_weights)\n",
    "        optimizer.apply_gradients(zip(grads, actor_net.trainable_weights + value_net.trainable_weights))\n"
   ]
  },
  {
   "cell_type": "code",
   "execution_count": 19,
   "metadata": {
    "scrolled": false
   },
   "outputs": [
    {
     "data": {
      "application/vnd.jupyter.widget-view+json": {
       "model_id": "",
       "version_major": 2,
       "version_minor": 0
      },
      "text/plain": [
       "HBox(children=(FloatProgress(value=0.0, description='inner loop', max=250.0, style=ProgressStyle(description_w…"
      ]
     },
     "metadata": {},
     "output_type": "display_data"
    },
    {
     "data": {
      "text/plain": [
       "Text(0.5, 1.0, 'Cumulative reward per episode')"
      ]
     },
     "execution_count": 19,
     "metadata": {},
     "output_type": "execute_result"
    },
    {
     "data": {
      "image/png": "[encoded data removed]",
      "text/plain": [
       "<Figure size 432x288 with 1 Axes>"
      ]
     },
     "metadata": {
      "needs_background": "light"
     },
     "output_type": "display_data"
    }
   ],
   "source": [
    "trace = []\n",
    "tot_episodes = 250\n",
    "\n",
    "with trange(tot_episodes, desc='inner loop', position=1, leave=False) as t:\n",
    "    for e in t:\n",
    "        # Collect episode\n",
    "        observations = []\n",
    "        actions = []\n",
    "        rewards = []\n",
    "        env_steps.reset()\n",
    "\n",
    "        initial_time_step, _ = driver.run(time_step=initial_time_step)\n",
    "                \n",
    "        observations = tf.stack(observations[:episode_lenght], axis=1)[:,:,0]\n",
    "        actions = tf.squeeze(tf.stack(actions[:episode_lenght], axis=1))\n",
    "        rewards = tf.squeeze(tf.stack(rewards[:episode_lenght], axis=1))\n",
    "        \n",
    "        tot_time_steps = env_steps.result()\n",
    "        \n",
    "        loss_fun(value_net, actor_net, observations, actions, rewards, returns, gamma_matrix, optimizer)\n",
    "       \n",
    "        trace.append(tf.reduce_sum(rewards).numpy())\n",
    "        t.set_postfix(tot_reward=tf.reduce_sum(rewards).numpy())                        \n",
    "\n",
    "\n",
    "plt.plot(trace)\n",
    "plt.title(\"Cumulative reward per episode\")"
   ]
  },
  {
   "cell_type": "code",
   "execution_count": 20,
   "metadata": {},
   "outputs": [
    {
     "data": {
      "image/png": "[encoded data removed]",
      "text/plain": [
       "<Figure size 288x288 with 1 Axes>"
      ]
     },
     "metadata": {
      "needs_background": "light"
     },
     "output_type": "display_data"
    }
   ],
   "source": [
    "v_vals = np.array([f\"{v[0]:.2f}\"for v in value_net.trainable_weights[0].numpy()]).reshape(4,4)\n",
    "fig, ax = mplot.base_fig(size)\n",
    "mplot.draw_cell_numbers(ax, v_vals)\n",
    "mplot.color_square(ax, environment.pyenv.envs[0].get_coordinates(environment.pyenv.envs[0].reward_pos), 'r')"
   ]
  },
  {
   "cell_type": "code",
   "execution_count": null,
   "metadata": {},
   "outputs": [],
   "source": []
  }
 ],
 "metadata": {
  "kernelspec": {
   "display_name": "Python 3",
   "language": "python",
   "name": "python3"
  },
  "language_info": {
   "codemirror_mode": {
    "name": "ipython",
    "version": 3
   },
   "file_extension": ".py",
   "mimetype": "text/x-python",
   "name": "python",
   "nbconvert_exporter": "python",
   "pygments_lexer": "ipython3",
   "version": "3.7.6"
  }
 },
 "nbformat": 4,
 "nbformat_minor": 4
}
